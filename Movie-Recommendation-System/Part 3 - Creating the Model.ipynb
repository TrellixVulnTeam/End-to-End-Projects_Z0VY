{
 "cells": [
  {
   "cell_type": "markdown",
   "id": "12413afb-3c90-4e6e-a8d3-5e404fc12cd3",
   "metadata": {},
   "source": [
    "# TMDb Movie Data Analysis and Building a Movie Recommendation System\n",
    "## Part 3: Recommender System Through Content-Based Filtering"
   ]
  },
  {
   "cell_type": "markdown",
   "id": "8206bfd0-12f0-4179-b212-0caa2b4178cf",
   "metadata": {},
   "source": [
    "### In this section, we will vectorize all relevant columns and create a cosine similarity matrix to use for our movie recommendation system."
   ]
  },
  {
   "cell_type": "markdown",
   "id": "721abfaf",
   "metadata": {},
   "source": [
    "* **id:** The ID of the movie (clear/unique identifier).\n",
    "* **title:** The Official Title of the movie.\n",
    "* **tagline:** The tagline of the movie.\n",
    "* **release_date:** Theatrical Release Date of the movie.\n",
    "* **genres:** Genres associated with the movie.\n",
    "* **belongs_to_collection:** Gives information on the movie series/franchise the particular film belongs to.\n",
    "* **original_language:** The language in which the movie was originally shot in.\n",
    "* **budget_musd:** The budget of the movie in million dollars.\n",
    "* **revenue_musd:** The total revenue of the movie in million dollars.\n",
    "* **production_companies:** Production companies involved with the making of the movie.\n",
    "* **production_countries:** Countries where the movie was shot/produced in.\n",
    "* **vote_count:** The number of votes by users, as counted by TMDB.\n",
    "* **vote_average:** The average rating of the movie.\n",
    "* **popularity:** The Popularity Score assigned by TMDB.\n",
    "* **runtime:** The runtime of the movie in minutes.\n",
    "* **overview:** A brief blurb of the movie.\n",
    "* **spoken_languages:** Spoken languages in the film.\n",
    "* **poster_path:** The URL of the poster image.\n",
    "* **cast:** (Main) Actors appearing in the movie.\n",
    "* **cast_size:** number of Actors appearing in the movie.\n",
    "* **director:** Director of the movie.\n",
    "* **crew_size:** Size of the film crew (incl. director, excl. actors)."
   ]
  },
  {
   "cell_type": "markdown",
   "id": "3d38833d",
   "metadata": {},
   "source": [
    "## Loading the main libraries"
   ]
  },
  {
   "cell_type": "code",
   "execution_count": 1,
   "id": "d2a267c8-e9a2-4203-8d67-536bb6935a14",
   "metadata": {},
   "outputs": [],
   "source": [
    "import pandas as pd\n",
    "import numpy as np\n",
    "import pickle\n",
    "from ast import literal_eval\n",
    "pd.options.display.max_columns = 30\n",
    "#pd.set_option('precision', 2)"
   ]
  },
  {
   "cell_type": "markdown",
   "id": "87495faa-d38a-4e89-a3e8-6ac9efa1d196",
   "metadata": {},
   "source": [
    "## Loading the Dataset"
   ]
  },
  {
   "cell_type": "code",
   "execution_count": 2,
   "id": "68bdfd6a-087f-46b0-bfca-82f4b79faa1a",
   "metadata": {},
   "outputs": [
    {
     "data": {
      "text/html": [
       "<div>\n",
       "<style scoped>\n",
       "    .dataframe tbody tr th:only-of-type {\n",
       "        vertical-align: middle;\n",
       "    }\n",
       "\n",
       "    .dataframe tbody tr th {\n",
       "        vertical-align: top;\n",
       "    }\n",
       "\n",
       "    .dataframe thead th {\n",
       "        text-align: right;\n",
       "    }\n",
       "</style>\n",
       "<table border=\"1\" class=\"dataframe\">\n",
       "  <thead>\n",
       "    <tr style=\"text-align: right;\">\n",
       "      <th></th>\n",
       "      <th>belongs_to_collection</th>\n",
       "      <th>budget_musd</th>\n",
       "      <th>genres</th>\n",
       "      <th>id</th>\n",
       "      <th>original_language</th>\n",
       "      <th>overview</th>\n",
       "      <th>popularity</th>\n",
       "      <th>poster_path</th>\n",
       "      <th>production_companies</th>\n",
       "      <th>production_countries</th>\n",
       "      <th>release_date</th>\n",
       "      <th>revenue_musd</th>\n",
       "      <th>runtime</th>\n",
       "      <th>spoken_languages</th>\n",
       "      <th>tagline</th>\n",
       "      <th>title</th>\n",
       "      <th>vote_average</th>\n",
       "      <th>vote_count</th>\n",
       "      <th>year</th>\n",
       "      <th>html</th>\n",
       "      <th>cast_names</th>\n",
       "      <th>crew_names</th>\n",
       "      <th>director</th>\n",
       "      <th>profit_musd</th>\n",
       "      <th>return_musd</th>\n",
       "      <th>runtime_hours</th>\n",
       "      <th>Franchise</th>\n",
       "    </tr>\n",
       "  </thead>\n",
       "  <tbody>\n",
       "    <tr>\n",
       "      <th>0</th>\n",
       "      <td>Blondie Collection</td>\n",
       "      <td>NaN</td>\n",
       "      <td>Comedy</td>\n",
       "      <td>3924</td>\n",
       "      <td>en</td>\n",
       "      <td>Blondie and Dagwood are about to celebrate the...</td>\n",
       "      <td>2.445</td>\n",
       "      <td>https://image.tmdb.org/t/p/w500/o6UMTE2LzQdlKV...</td>\n",
       "      <td>Columbia Pictures</td>\n",
       "      <td>United States of America</td>\n",
       "      <td>1938-11-30</td>\n",
       "      <td>NaN</td>\n",
       "      <td>70.0</td>\n",
       "      <td>English</td>\n",
       "      <td>NaN</td>\n",
       "      <td>Blondie</td>\n",
       "      <td>7.1</td>\n",
       "      <td>5</td>\n",
       "      <td>1938.0</td>\n",
       "      <td>&lt;img src='https://image.tmdb.org/t/p/w500/o6UM...</td>\n",
       "      <td>Penny Singleton|Arthur Lake|Larry Simms|Daisy|...</td>\n",
       "      <td>Frank R. Strayer|Richard Flournoy</td>\n",
       "      <td>Frank R. Strayer</td>\n",
       "      <td>NaN</td>\n",
       "      <td>NaN</td>\n",
       "      <td>1.0</td>\n",
       "      <td>Franchise</td>\n",
       "    </tr>\n",
       "    <tr>\n",
       "      <th>1</th>\n",
       "      <td>NaN</td>\n",
       "      <td>NaN</td>\n",
       "      <td>Adventure</td>\n",
       "      <td>6124</td>\n",
       "      <td>de</td>\n",
       "      <td>Der Mann ohne Namen is a German adventure movi...</td>\n",
       "      <td>0.600</td>\n",
       "      <td>https://image.tmdb.org/t/p/w500/6xUbUCvndklbGV...</td>\n",
       "      <td>NaN</td>\n",
       "      <td>Germany</td>\n",
       "      <td>1921-01-01</td>\n",
       "      <td>NaN</td>\n",
       "      <td>420.0</td>\n",
       "      <td>NaN</td>\n",
       "      <td>NaN</td>\n",
       "      <td>Peter Voss, Thief of Millions</td>\n",
       "      <td>NaN</td>\n",
       "      <td>0</td>\n",
       "      <td>1921.0</td>\n",
       "      <td>&lt;img src='https://image.tmdb.org/t/p/w500/6xUb...</td>\n",
       "      <td>Harry Liedtke|Georg Alexander|Mady Christians|...</td>\n",
       "      <td>Robert Liebmann|Frederik Fuglsang|Georg Jacoby...</td>\n",
       "      <td>Georg Jacoby</td>\n",
       "      <td>NaN</td>\n",
       "      <td>NaN</td>\n",
       "      <td>7.0</td>\n",
       "      <td>Stand-alone</td>\n",
       "    </tr>\n",
       "    <tr>\n",
       "      <th>2</th>\n",
       "      <td>NaN</td>\n",
       "      <td>NaN</td>\n",
       "      <td>Drama|Romance</td>\n",
       "      <td>8773</td>\n",
       "      <td>fr</td>\n",
       "      <td>Love at Twenty unites five directors from five...</td>\n",
       "      <td>4.985</td>\n",
       "      <td>https://image.tmdb.org/t/p/w500/aup2QCYCsyEeQf...</td>\n",
       "      <td>Ulysse Productions|Unitec Films|Cinesecolo|Toh...</td>\n",
       "      <td>Germany|France|Italy|Japan|Poland</td>\n",
       "      <td>1962-06-22</td>\n",
       "      <td>NaN</td>\n",
       "      <td>110.0</td>\n",
       "      <td>Deutsch|Français|Italiano|日本語|Polski</td>\n",
       "      <td>The Intimate Secrets of Young Lovers</td>\n",
       "      <td>Love at Twenty</td>\n",
       "      <td>6.8</td>\n",
       "      <td>36</td>\n",
       "      <td>1962.0</td>\n",
       "      <td>&lt;img src='https://image.tmdb.org/t/p/w500/aup2...</td>\n",
       "      <td>Jean-Pierre Léaud|Marie-France Pisier|Patrick ...</td>\n",
       "      <td>François Truffaut|François Truffaut|Gérard Bra...</td>\n",
       "      <td>François Truffaut</td>\n",
       "      <td>NaN</td>\n",
       "      <td>NaN</td>\n",
       "      <td>1.0</td>\n",
       "      <td>Stand-alone</td>\n",
       "    </tr>\n",
       "    <tr>\n",
       "      <th>3</th>\n",
       "      <td>New World Disorder</td>\n",
       "      <td>NaN</td>\n",
       "      <td>NaN</td>\n",
       "      <td>25449</td>\n",
       "      <td>en</td>\n",
       "      <td>Gee Atherton ripping the Worlds course the day...</td>\n",
       "      <td>1.337</td>\n",
       "      <td>https://image.tmdb.org/t/p/w500/okQY6jVmRU19CU...</td>\n",
       "      <td>NaN</td>\n",
       "      <td>NaN</td>\n",
       "      <td>2008-12-08</td>\n",
       "      <td>NaN</td>\n",
       "      <td>69.0</td>\n",
       "      <td>English</td>\n",
       "      <td>NaN</td>\n",
       "      <td>New World Disorder 9: Never Enough</td>\n",
       "      <td>4.5</td>\n",
       "      <td>2</td>\n",
       "      <td>2008.0</td>\n",
       "      <td>&lt;img src='https://image.tmdb.org/t/p/w500/okQY...</td>\n",
       "      <td>Darren Berrecloth|Cameron McCaul|Paul Basagoit...</td>\n",
       "      <td>Derek Westerlund</td>\n",
       "      <td>Derek Westerlund</td>\n",
       "      <td>NaN</td>\n",
       "      <td>NaN</td>\n",
       "      <td>1.0</td>\n",
       "      <td>Franchise</td>\n",
       "    </tr>\n",
       "    <tr>\n",
       "      <th>4</th>\n",
       "      <td>NaN</td>\n",
       "      <td>NaN</td>\n",
       "      <td>Family</td>\n",
       "      <td>31975</td>\n",
       "      <td>en</td>\n",
       "      <td>Elmo is making a very, very super special surp...</td>\n",
       "      <td>0.600</td>\n",
       "      <td>https://image.tmdb.org/t/p/w500/qKWcCmvGr4g0dg...</td>\n",
       "      <td>NaN</td>\n",
       "      <td>NaN</td>\n",
       "      <td>2010-01-05</td>\n",
       "      <td>NaN</td>\n",
       "      <td>46.0</td>\n",
       "      <td>NaN</td>\n",
       "      <td>NaN</td>\n",
       "      <td>Sesame Street: Elmo Loves You!</td>\n",
       "      <td>NaN</td>\n",
       "      <td>0</td>\n",
       "      <td>2010.0</td>\n",
       "      <td>&lt;img src='https://image.tmdb.org/t/p/w500/qKWc...</td>\n",
       "      <td>NaN</td>\n",
       "      <td>NaN</td>\n",
       "      <td>NaN</td>\n",
       "      <td>NaN</td>\n",
       "      <td>NaN</td>\n",
       "      <td>0.0</td>\n",
       "      <td>Stand-alone</td>\n",
       "    </tr>\n",
       "  </tbody>\n",
       "</table>\n",
       "</div>"
      ],
      "text/plain": [
       "  belongs_to_collection  budget_musd         genres     id original_language  \\\n",
       "0    Blondie Collection          NaN         Comedy   3924                en   \n",
       "1                   NaN          NaN      Adventure   6124                de   \n",
       "2                   NaN          NaN  Drama|Romance   8773                fr   \n",
       "3    New World Disorder          NaN            NaN  25449                en   \n",
       "4                   NaN          NaN         Family  31975                en   \n",
       "\n",
       "                                            overview  popularity  \\\n",
       "0  Blondie and Dagwood are about to celebrate the...       2.445   \n",
       "1  Der Mann ohne Namen is a German adventure movi...       0.600   \n",
       "2  Love at Twenty unites five directors from five...       4.985   \n",
       "3  Gee Atherton ripping the Worlds course the day...       1.337   \n",
       "4  Elmo is making a very, very super special surp...       0.600   \n",
       "\n",
       "                                         poster_path  \\\n",
       "0  https://image.tmdb.org/t/p/w500/o6UMTE2LzQdlKV...   \n",
       "1  https://image.tmdb.org/t/p/w500/6xUbUCvndklbGV...   \n",
       "2  https://image.tmdb.org/t/p/w500/aup2QCYCsyEeQf...   \n",
       "3  https://image.tmdb.org/t/p/w500/okQY6jVmRU19CU...   \n",
       "4  https://image.tmdb.org/t/p/w500/qKWcCmvGr4g0dg...   \n",
       "\n",
       "                                production_companies  \\\n",
       "0                                  Columbia Pictures   \n",
       "1                                                NaN   \n",
       "2  Ulysse Productions|Unitec Films|Cinesecolo|Toh...   \n",
       "3                                                NaN   \n",
       "4                                                NaN   \n",
       "\n",
       "                production_countries release_date  revenue_musd  runtime  \\\n",
       "0           United States of America   1938-11-30           NaN     70.0   \n",
       "1                            Germany   1921-01-01           NaN    420.0   \n",
       "2  Germany|France|Italy|Japan|Poland   1962-06-22           NaN    110.0   \n",
       "3                                NaN   2008-12-08           NaN     69.0   \n",
       "4                                NaN   2010-01-05           NaN     46.0   \n",
       "\n",
       "                       spoken_languages                               tagline  \\\n",
       "0                               English                                   NaN   \n",
       "1                                   NaN                                   NaN   \n",
       "2  Deutsch|Français|Italiano|日本語|Polski  The Intimate Secrets of Young Lovers   \n",
       "3                               English                                   NaN   \n",
       "4                                   NaN                                   NaN   \n",
       "\n",
       "                                title  vote_average  vote_count    year  \\\n",
       "0                             Blondie           7.1           5  1938.0   \n",
       "1       Peter Voss, Thief of Millions           NaN           0  1921.0   \n",
       "2                      Love at Twenty           6.8          36  1962.0   \n",
       "3  New World Disorder 9: Never Enough           4.5           2  2008.0   \n",
       "4      Sesame Street: Elmo Loves You!           NaN           0  2010.0   \n",
       "\n",
       "                                                html  \\\n",
       "0  <img src='https://image.tmdb.org/t/p/w500/o6UM...   \n",
       "1  <img src='https://image.tmdb.org/t/p/w500/6xUb...   \n",
       "2  <img src='https://image.tmdb.org/t/p/w500/aup2...   \n",
       "3  <img src='https://image.tmdb.org/t/p/w500/okQY...   \n",
       "4  <img src='https://image.tmdb.org/t/p/w500/qKWc...   \n",
       "\n",
       "                                          cast_names  \\\n",
       "0  Penny Singleton|Arthur Lake|Larry Simms|Daisy|...   \n",
       "1  Harry Liedtke|Georg Alexander|Mady Christians|...   \n",
       "2  Jean-Pierre Léaud|Marie-France Pisier|Patrick ...   \n",
       "3  Darren Berrecloth|Cameron McCaul|Paul Basagoit...   \n",
       "4                                                NaN   \n",
       "\n",
       "                                          crew_names           director  \\\n",
       "0                  Frank R. Strayer|Richard Flournoy   Frank R. Strayer   \n",
       "1  Robert Liebmann|Frederik Fuglsang|Georg Jacoby...       Georg Jacoby   \n",
       "2  François Truffaut|François Truffaut|Gérard Bra...  François Truffaut   \n",
       "3                                   Derek Westerlund   Derek Westerlund   \n",
       "4                                                NaN                NaN   \n",
       "\n",
       "   profit_musd  return_musd  runtime_hours    Franchise  \n",
       "0          NaN          NaN            1.0    Franchise  \n",
       "1          NaN          NaN            7.0  Stand-alone  \n",
       "2          NaN          NaN            1.0  Stand-alone  \n",
       "3          NaN          NaN            1.0    Franchise  \n",
       "4          NaN          NaN            0.0  Stand-alone  "
      ]
     },
     "execution_count": 2,
     "metadata": {},
     "output_type": "execute_result"
    }
   ],
   "source": [
    "df = pd.read_csv('movies_complete.csv')\n",
    "df.head()"
   ]
  },
  {
   "cell_type": "code",
   "execution_count": 3,
   "id": "3db24f66-ea72-4bc9-a8fe-de7d1a1074c0",
   "metadata": {},
   "outputs": [
    {
     "name": "stdout",
     "output_type": "stream",
     "text": [
      "<class 'pandas.core.frame.DataFrame'>\n",
      "RangeIndex: 578038 entries, 0 to 578037\n",
      "Data columns (total 27 columns):\n",
      " #   Column                 Non-Null Count   Dtype  \n",
      "---  ------                 --------------   -----  \n",
      " 0   belongs_to_collection  15891 non-null   object \n",
      " 1   budget_musd            24889 non-null   float64\n",
      " 2   genres                 425057 non-null  object \n",
      " 3   id                     578038 non-null  int64  \n",
      " 4   original_language      578038 non-null  object \n",
      " 5   overview               496799 non-null  object \n",
      " 6   popularity             578038 non-null  float64\n",
      " 7   poster_path            420706 non-null  object \n",
      " 8   production_companies   273625 non-null  object \n",
      " 9   production_countries   377206 non-null  object \n",
      " 10  release_date           556155 non-null  object \n",
      " 11  revenue_musd           13603 non-null   float64\n",
      " 12  runtime                474092 non-null  float64\n",
      " 13  spoken_languages       370286 non-null  object \n",
      " 14  tagline                90465 non-null   object \n",
      " 15  title                  578038 non-null  object \n",
      " 16  vote_average           256163 non-null  float64\n",
      " 17  vote_count             578038 non-null  int64  \n",
      " 18  year                   556155 non-null  float64\n",
      " 19  html                   420706 non-null  object \n",
      " 20  cast_names             413840 non-null  object \n",
      " 21  crew_names             502382 non-null  object \n",
      " 22  director               494305 non-null  object \n",
      " 23  profit_musd            8952 non-null    float64\n",
      " 24  return_musd            8952 non-null    float64\n",
      " 25  runtime_hours          474092 non-null  float64\n",
      " 26  Franchise              578038 non-null  object \n",
      "dtypes: float64(9), int64(2), object(16)\n",
      "memory usage: 119.1+ MB\n"
     ]
    }
   ],
   "source": [
    "df.info()"
   ]
  },
  {
   "cell_type": "markdown",
   "id": "9bd314bc",
   "metadata": {},
   "source": [
    "## Dropping movies below a vote count threshold"
   ]
  },
  {
   "cell_type": "code",
   "execution_count": 4,
   "id": "c26f99ae-d703-49c4-9052-2de91e0955f8",
   "metadata": {},
   "outputs": [
    {
     "name": "stdout",
     "output_type": "stream",
     "text": [
      "32.0\n"
     ]
    }
   ],
   "source": [
    "min_votes = df.vote_count.quantile(0.95)\n",
    "print(min_votes)"
   ]
  },
  {
   "cell_type": "code",
   "execution_count": 5,
   "id": "71a1e91d-44ef-41dd-b4dd-2ff4e392cf7d",
   "metadata": {},
   "outputs": [
    {
     "name": "stdout",
     "output_type": "stream",
     "text": [
      "Shape: (29305, 9)\n"
     ]
    },
    {
     "data": {
      "text/html": [
       "<div>\n",
       "<style scoped>\n",
       "    .dataframe tbody tr th:only-of-type {\n",
       "        vertical-align: middle;\n",
       "    }\n",
       "\n",
       "    .dataframe tbody tr th {\n",
       "        vertical-align: top;\n",
       "    }\n",
       "\n",
       "    .dataframe thead th {\n",
       "        text-align: right;\n",
       "    }\n",
       "</style>\n",
       "<table border=\"1\" class=\"dataframe\">\n",
       "  <thead>\n",
       "    <tr style=\"text-align: right;\">\n",
       "      <th></th>\n",
       "      <th>id</th>\n",
       "      <th>title</th>\n",
       "      <th>genres</th>\n",
       "      <th>cast_names</th>\n",
       "      <th>director</th>\n",
       "      <th>production_companies</th>\n",
       "      <th>overview</th>\n",
       "      <th>poster_path</th>\n",
       "      <th>html</th>\n",
       "    </tr>\n",
       "  </thead>\n",
       "  <tbody>\n",
       "    <tr>\n",
       "      <th>0</th>\n",
       "      <td>8773</td>\n",
       "      <td>Love at Twenty</td>\n",
       "      <td>Drama|Romance</td>\n",
       "      <td>Jean-Pierre Léaud|Marie-France Pisier|Patrick ...</td>\n",
       "      <td>François Truffaut</td>\n",
       "      <td>Ulysse Productions|Unitec Films|Cinesecolo|Toh...</td>\n",
       "      <td>Love at Twenty unites five directors from five...</td>\n",
       "      <td>https://image.tmdb.org/t/p/w500/aup2QCYCsyEeQf...</td>\n",
       "      <td>&lt;img src='https://image.tmdb.org/t/p/w500/aup2...</td>\n",
       "    </tr>\n",
       "    <tr>\n",
       "      <th>1</th>\n",
       "      <td>2</td>\n",
       "      <td>Ariel</td>\n",
       "      <td>Drama|Crime|Comedy</td>\n",
       "      <td>Turo Pajala|Susanna Haavisto|Matti Pellonpää|E...</td>\n",
       "      <td>Aki Kaurismäki</td>\n",
       "      <td>Villealfa Filmproductions</td>\n",
       "      <td>Taisto Kasurinen is a Finnish coal miner whose...</td>\n",
       "      <td>https://image.tmdb.org/t/p/w500/ojDg0PGvs6R9xY...</td>\n",
       "      <td>&lt;img src='https://image.tmdb.org/t/p/w500/ojDg...</td>\n",
       "    </tr>\n",
       "    <tr>\n",
       "      <th>2</th>\n",
       "      <td>3</td>\n",
       "      <td>Shadows in Paradise</td>\n",
       "      <td>Drama|Comedy</td>\n",
       "      <td>Matti Pellonpää|Kati Outinen|Sakari Kuosmanen|...</td>\n",
       "      <td>Aki Kaurismäki</td>\n",
       "      <td>Villealfa Filmproductions</td>\n",
       "      <td>An episode in the life of Nikander, a garbage ...</td>\n",
       "      <td>https://image.tmdb.org/t/p/w500/nj01hspawPof0m...</td>\n",
       "      <td>&lt;img src='https://image.tmdb.org/t/p/w500/nj01...</td>\n",
       "    </tr>\n",
       "    <tr>\n",
       "      <th>3</th>\n",
       "      <td>5</td>\n",
       "      <td>Four Rooms</td>\n",
       "      <td>Crime|Comedy</td>\n",
       "      <td>Tim Roth|Jennifer Beals|Antonio Banderas|Valer...</td>\n",
       "      <td>Allison Anders</td>\n",
       "      <td>Miramax|A Band Apart</td>\n",
       "      <td>It's Ted the Bellhop's first night on the job....</td>\n",
       "      <td>https://image.tmdb.org/t/p/w500/75aHn1NOYXh4M7...</td>\n",
       "      <td>&lt;img src='https://image.tmdb.org/t/p/w500/75aH...</td>\n",
       "    </tr>\n",
       "    <tr>\n",
       "      <th>4</th>\n",
       "      <td>6</td>\n",
       "      <td>Judgment Night</td>\n",
       "      <td>Action|Thriller|Crime</td>\n",
       "      <td>Emilio Estevez|Cuba Gooding Jr.|Denis Leary|St...</td>\n",
       "      <td>Stephen Hopkins</td>\n",
       "      <td>Universal Pictures|Largo Entertainment|JVC</td>\n",
       "      <td>While racing to a boxing match, Frank, Mike, J...</td>\n",
       "      <td>https://image.tmdb.org/t/p/w500/rYFAvSPlQUCeba...</td>\n",
       "      <td>&lt;img src='https://image.tmdb.org/t/p/w500/rYFA...</td>\n",
       "    </tr>\n",
       "  </tbody>\n",
       "</table>\n",
       "</div>"
      ],
      "text/plain": [
       "     id                title                 genres  \\\n",
       "0  8773       Love at Twenty          Drama|Romance   \n",
       "1     2                Ariel     Drama|Crime|Comedy   \n",
       "2     3  Shadows in Paradise           Drama|Comedy   \n",
       "3     5           Four Rooms           Crime|Comedy   \n",
       "4     6       Judgment Night  Action|Thriller|Crime   \n",
       "\n",
       "                                          cast_names           director  \\\n",
       "0  Jean-Pierre Léaud|Marie-France Pisier|Patrick ...  François Truffaut   \n",
       "1  Turo Pajala|Susanna Haavisto|Matti Pellonpää|E...     Aki Kaurismäki   \n",
       "2  Matti Pellonpää|Kati Outinen|Sakari Kuosmanen|...     Aki Kaurismäki   \n",
       "3  Tim Roth|Jennifer Beals|Antonio Banderas|Valer...     Allison Anders   \n",
       "4  Emilio Estevez|Cuba Gooding Jr.|Denis Leary|St...    Stephen Hopkins   \n",
       "\n",
       "                                production_companies  \\\n",
       "0  Ulysse Productions|Unitec Films|Cinesecolo|Toh...   \n",
       "1                          Villealfa Filmproductions   \n",
       "2                          Villealfa Filmproductions   \n",
       "3                               Miramax|A Band Apart   \n",
       "4         Universal Pictures|Largo Entertainment|JVC   \n",
       "\n",
       "                                            overview  \\\n",
       "0  Love at Twenty unites five directors from five...   \n",
       "1  Taisto Kasurinen is a Finnish coal miner whose...   \n",
       "2  An episode in the life of Nikander, a garbage ...   \n",
       "3  It's Ted the Bellhop's first night on the job....   \n",
       "4  While racing to a boxing match, Frank, Mike, J...   \n",
       "\n",
       "                                         poster_path  \\\n",
       "0  https://image.tmdb.org/t/p/w500/aup2QCYCsyEeQf...   \n",
       "1  https://image.tmdb.org/t/p/w500/ojDg0PGvs6R9xY...   \n",
       "2  https://image.tmdb.org/t/p/w500/nj01hspawPof0m...   \n",
       "3  https://image.tmdb.org/t/p/w500/75aHn1NOYXh4M7...   \n",
       "4  https://image.tmdb.org/t/p/w500/rYFAvSPlQUCeba...   \n",
       "\n",
       "                                                html  \n",
       "0  <img src='https://image.tmdb.org/t/p/w500/aup2...  \n",
       "1  <img src='https://image.tmdb.org/t/p/w500/ojDg...  \n",
       "2  <img src='https://image.tmdb.org/t/p/w500/nj01...  \n",
       "3  <img src='https://image.tmdb.org/t/p/w500/75aH...  \n",
       "4  <img src='https://image.tmdb.org/t/p/w500/rYFA...  "
      ]
     },
     "execution_count": 5,
     "metadata": {},
     "output_type": "execute_result"
    }
   ],
   "source": [
    "movies = df.copy().loc[:,['id', 'title', 'genres', 'cast_names', 'director', 'production_companies', 'overview', 'poster_path', 'html']].copy()\n",
    "movies = movies.loc[df.vote_count >= min_votes].reset_index(drop=True)\n",
    "print(f\"Shape: {movies.shape}\")\n",
    "movies.head()"
   ]
  },
  {
   "cell_type": "code",
   "execution_count": 6,
   "id": "d376ce6b-aff2-4232-8aad-90007bc827ec",
   "metadata": {},
   "outputs": [
    {
     "data": {
      "text/plain": [
       "id                         0\n",
       "title                      0\n",
       "genres                    86\n",
       "cast_names               249\n",
       "director                  90\n",
       "production_companies    1796\n",
       "overview                 308\n",
       "poster_path               57\n",
       "html                      57\n",
       "dtype: int64"
      ]
     },
     "execution_count": 6,
     "metadata": {},
     "output_type": "execute_result"
    }
   ],
   "source": [
    "movies.isnull().sum()"
   ]
  },
  {
   "cell_type": "markdown",
   "id": "9a2a0adb",
   "metadata": {},
   "source": [
    "## Removing rows with null values"
   ]
  },
  {
   "cell_type": "code",
   "execution_count": 7,
   "id": "088315d8-2fe8-44a4-b9b5-ed4df65f854c",
   "metadata": {},
   "outputs": [
    {
     "name": "stdout",
     "output_type": "stream",
     "text": [
      "Shape: (27062, 9)\n"
     ]
    }
   ],
   "source": [
    "movies = movies.dropna().reset_index(drop=True)\n",
    "print(f\"Shape: {movies.shape}\")"
   ]
  },
  {
   "cell_type": "markdown",
   "id": "cf6e0a6e",
   "metadata": {},
   "source": [
    "## Creating a \"tags\" column by concatenating relevant columns"
   ]
  },
  {
   "cell_type": "code",
   "execution_count": 8,
   "id": "139cda3a-6d7f-4b36-9635-dcccf2cc0d4e",
   "metadata": {},
   "outputs": [],
   "source": [
    "movies['tags'] = movies.genres + '|' + movies.cast_names + '|' + movies.director + '|' + movies.production_companies\n",
    "movies['tags'] = movies.tags.apply(lambda x: x.replace(' ', ''))"
   ]
  },
  {
   "cell_type": "markdown",
   "id": "c60a9954",
   "metadata": {},
   "source": [
    "## Vectorizing the \"tags\" column"
   ]
  },
  {
   "cell_type": "code",
   "execution_count": 9,
   "id": "6f82b6a7-915e-4952-bee1-987758b9fc86",
   "metadata": {},
   "outputs": [
    {
     "name": "stdout",
     "output_type": "stream",
     "text": [
      "cv_matrix.shape: (27062, 12246)\n"
     ]
    }
   ],
   "source": [
    "from sklearn.feature_extraction.text import TfidfVectorizer, CountVectorizer\n",
    "#cv = CountVectorizer(min_df=10)\n",
    "cv = TfidfVectorizer(min_df=10)\n",
    "cv_matrix = cv.fit_transform(movies.tags)\n",
    "print(f\"cv_matrix.shape: {cv_matrix.shape}\")"
   ]
  },
  {
   "cell_type": "markdown",
   "id": "cc37ed0b",
   "metadata": {},
   "source": [
    "## Creating a cosine similarity matrix"
   ]
  },
  {
   "cell_type": "code",
   "execution_count": 10,
   "id": "4328144b-ee04-421b-b147-4c28ce34253f",
   "metadata": {},
   "outputs": [
    {
     "name": "stdout",
     "output_type": "stream",
     "text": [
      "cs_matrix.shape: (27062, 27062)\n"
     ]
    }
   ],
   "source": [
    "from sklearn.metrics.pairwise import cosine_similarity\n",
    "cs_matrix = cosine_similarity(cv_matrix, dense_output=False)#.astype('int16')\n",
    "print(f\"cs_matrix.shape: {cs_matrix.shape}\")"
   ]
  },
  {
   "cell_type": "markdown",
   "id": "ad224795",
   "metadata": {},
   "source": [
    "## Creating a function that returns the most similar movies based on the title of a movie"
   ]
  },
  {
   "cell_type": "code",
   "execution_count": 11,
   "id": "47054418-f527-4d57-ac87-663628585882",
   "metadata": {},
   "outputs": [],
   "source": [
    "from IPython.display import HTML\n",
    "# Function that takes in movie title as input and outputs most similar movies\n",
    "def recommendations(title, cosine_sim=cs_matrix):\n",
    "    # Get the index of the movie that matches the title\n",
    "    idx = movies.loc[movies.title == title].index[0]\n",
    "    # Get the pairwise similarity scores of all movies with that movie\n",
    "    sim_scores = list(enumerate(cosine_sim[idx].toarray()[0]))\n",
    "    # Sort the movies based on the similarity scores\n",
    "    sim_scores = sorted(sim_scores, key=lambda x: x[1], reverse=True)\n",
    "    # Get the scores of the 10 most similar movies \n",
    "    sim_scores = sim_scores[1:11]\n",
    "    # Get the movie indices\n",
    "    movie_indices = [i[0] for i in sim_scores]\n",
    "    \n",
    "    # Return the top 10 most similar movies\n",
    "    results = movies[['html', 'title']].iloc[movie_indices].set_index(np.arange(1,11)).rename(columns={'html': '', 'title': 'Top 10'})\n",
    "    return HTML(results.to_html(escape=False))"
   ]
  },
  {
   "cell_type": "code",
   "execution_count": 12,
   "id": "1ffb7056-3058-4064-9aa9-16a8c4dba32b",
   "metadata": {},
   "outputs": [
    {
     "data": {
      "text/html": [
       "<table border=\"1\" class=\"dataframe\">\n",
       "  <thead>\n",
       "    <tr style=\"text-align: right;\">\n",
       "      <th></th>\n",
       "      <th></th>\n",
       "      <th>Top 10</th>\n",
       "    </tr>\n",
       "  </thead>\n",
       "  <tbody>\n",
       "    <tr>\n",
       "      <th>1</th>\n",
       "      <td><img src='https://image.tmdb.org/t/p/w500/2mObg4LWxo4BicFUykGm6oauxHt.jpg' style='height:100px;'></td>\n",
       "      <td>The Empire Strikes Back</td>\n",
       "    </tr>\n",
       "    <tr>\n",
       "      <th>2</th>\n",
       "      <td><img src='https://image.tmdb.org/t/p/w500/1TY4OAkcHRovlHDxSLW7UDJlild.jpg' style='height:100px;'></td>\n",
       "      <td>The Star Wars Holiday Special</td>\n",
       "    </tr>\n",
       "    <tr>\n",
       "      <th>3</th>\n",
       "      <td><img src='https://image.tmdb.org/t/p/w500/xq0MPT1lLxfznTRaAbInxWT2wfh.jpg' style='height:100px;'></td>\n",
       "      <td>Empire of Dreams: The Story of the Star Wars Trilogy</td>\n",
       "    </tr>\n",
       "    <tr>\n",
       "      <th>4</th>\n",
       "      <td><img src='https://image.tmdb.org/t/p/w500/mDCBQNhR6R0PVFucJl0O4Hp5klZ.jpg' style='height:100px;'></td>\n",
       "      <td>Return of the Jedi</td>\n",
       "    </tr>\n",
       "    <tr>\n",
       "      <th>5</th>\n",
       "      <td><img src='https://image.tmdb.org/t/p/w500/5ZrftyvB0I6ekivkpS4inAtmG6T.jpg' style='height:100px;'></td>\n",
       "      <td>Elstree 1976</td>\n",
       "    </tr>\n",
       "    <tr>\n",
       "      <th>6</th>\n",
       "      <td><img src='https://image.tmdb.org/t/p/w500/pMUF2SuXBWHdDK2sxg1FCUPKse5.jpg' style='height:100px;'></td>\n",
       "      <td>Secrets of the Force Awakens: A Cinematic Journey</td>\n",
       "    </tr>\n",
       "    <tr>\n",
       "      <th>7</th>\n",
       "      <td><img src='https://image.tmdb.org/t/p/w500/xfSAoBEm9MNBjmlNcDYLvLSMlnq.jpg' style='height:100px;'></td>\n",
       "      <td>Star Wars: Episode III - Revenge of the Sith</td>\n",
       "    </tr>\n",
       "    <tr>\n",
       "      <th>8</th>\n",
       "      <td><img src='https://image.tmdb.org/t/p/w500/lIZzwi4qK3wa5avz3YK0YNDq0ig.jpg' style='height:100px;'></td>\n",
       "      <td>The Skywalker Legacy</td>\n",
       "    </tr>\n",
       "    <tr>\n",
       "      <th>9</th>\n",
       "      <td><img src='https://image.tmdb.org/t/p/w500/fjuJjlnpAqbRNrHTZRCaThrZhE5.jpg' style='height:100px;'></td>\n",
       "      <td>Electronic Labyrinth: THX 1138 4EB</td>\n",
       "    </tr>\n",
       "    <tr>\n",
       "      <th>10</th>\n",
       "      <td><img src='https://image.tmdb.org/t/p/w500/jfTpuQGMHinR3dc6mZ5bXq3mTKk.jpg' style='height:100px;'></td>\n",
       "      <td>Willow</td>\n",
       "    </tr>\n",
       "  </tbody>\n",
       "</table>"
      ],
      "text/plain": [
       "<IPython.core.display.HTML object>"
      ]
     },
     "execution_count": 12,
     "metadata": {},
     "output_type": "execute_result"
    }
   ],
   "source": [
    "recommendations('Star Wars')"
   ]
  },
  {
   "cell_type": "code",
   "execution_count": 13,
   "id": "341e26bb-e047-413b-bdf2-66f4ec2e26f0",
   "metadata": {},
   "outputs": [
    {
     "data": {
      "text/html": [
       "<table border=\"1\" class=\"dataframe\">\n",
       "  <thead>\n",
       "    <tr style=\"text-align: right;\">\n",
       "      <th></th>\n",
       "      <th></th>\n",
       "      <th>Top 10</th>\n",
       "    </tr>\n",
       "  </thead>\n",
       "  <tbody>\n",
       "    <tr>\n",
       "      <th>1</th>\n",
       "      <td><img src='https://image.tmdb.org/t/p/w500/eVGu0zsezaSCuN67zgNhzjeNI9Z.jpg' style='height:100px;'></td>\n",
       "      <td>Toy Story 2</td>\n",
       "    </tr>\n",
       "    <tr>\n",
       "      <th>2</th>\n",
       "      <td><img src='https://image.tmdb.org/t/p/w500/hFamOus53922agTlKxhcL7ngJ9h.jpg' style='height:100px;'></td>\n",
       "      <td>A Bug's Life</td>\n",
       "    </tr>\n",
       "    <tr>\n",
       "      <th>3</th>\n",
       "      <td><img src='https://image.tmdb.org/t/p/w500/yRjtvmRXgZoY8P9Ug28G9OITD9E.jpg' style='height:100px;'></td>\n",
       "      <td>Tin Toy</td>\n",
       "    </tr>\n",
       "    <tr>\n",
       "      <th>4</th>\n",
       "      <td><img src='https://image.tmdb.org/t/p/w500/4cpGytCB0eqvRks4FAlJoUJiFPG.jpg' style='height:100px;'></td>\n",
       "      <td>Toy Story 3</td>\n",
       "    </tr>\n",
       "    <tr>\n",
       "      <th>5</th>\n",
       "      <td><img src='https://image.tmdb.org/t/p/w500/2LqaLgk4Z226KkgPJuiOQ58wvrm.jpg' style='height:100px;'></td>\n",
       "      <td>The Incredibles</td>\n",
       "    </tr>\n",
       "    <tr>\n",
       "      <th>6</th>\n",
       "      <td><img src='https://image.tmdb.org/t/p/w500/qa6HCwP4Z15l3hpsASz3auugEW6.jpg' style='height:100px;'></td>\n",
       "      <td>Cars</td>\n",
       "    </tr>\n",
       "    <tr>\n",
       "      <th>7</th>\n",
       "      <td><img src='https://image.tmdb.org/t/p/w500/3IXeVITL3FJ9CKpBK7lzULuw8Ts.jpg' style='height:100px;'></td>\n",
       "      <td>Buzz Lightyear of Star Command: The Adventure Begins</td>\n",
       "    </tr>\n",
       "    <tr>\n",
       "      <th>8</th>\n",
       "      <td><img src='https://image.tmdb.org/t/p/w500/sgheSKxZkttIe8ONsf2sWXPgip3.jpg' style='height:100px;'></td>\n",
       "      <td>Monsters, Inc.</td>\n",
       "    </tr>\n",
       "    <tr>\n",
       "      <th>9</th>\n",
       "      <td><img src='https://image.tmdb.org/t/p/w500/vhK51wJybwZTRCPVUOkGpSI4auN.jpg' style='height:100px;'></td>\n",
       "      <td>The Pixar Story</td>\n",
       "    </tr>\n",
       "    <tr>\n",
       "      <th>10</th>\n",
       "      <td><img src='https://image.tmdb.org/t/p/w500/tByW10AkjWG0DtZwN2E2trT88DD.jpg' style='height:100px;'></td>\n",
       "      <td>Hawaiian Vacation</td>\n",
       "    </tr>\n",
       "  </tbody>\n",
       "</table>"
      ],
      "text/plain": [
       "<IPython.core.display.HTML object>"
      ]
     },
     "execution_count": 13,
     "metadata": {},
     "output_type": "execute_result"
    }
   ],
   "source": [
    "recommendations('Toy Story')"
   ]
  },
  {
   "cell_type": "code",
   "execution_count": 14,
   "id": "bd817df4-971d-431a-bbd7-11cc24463c19",
   "metadata": {},
   "outputs": [
    {
     "data": {
      "text/html": [
       "<table border=\"1\" class=\"dataframe\">\n",
       "  <thead>\n",
       "    <tr style=\"text-align: right;\">\n",
       "      <th></th>\n",
       "      <th></th>\n",
       "      <th>Top 10</th>\n",
       "    </tr>\n",
       "  </thead>\n",
       "  <tbody>\n",
       "    <tr>\n",
       "      <th>1</th>\n",
       "      <td><img src='https://image.tmdb.org/t/p/w500/mtSmeCDTexb0uWhVedouJ4SeD6c.jpg' style='height:100px;'></td>\n",
       "      <td>Appleseed</td>\n",
       "    </tr>\n",
       "    <tr>\n",
       "      <th>2</th>\n",
       "      <td><img src='https://image.tmdb.org/t/p/w500/9pq1KCvE8gry7QlKszWMgAA6weE.jpg' style='height:100px;'></td>\n",
       "      <td>City Hunter: Shinjuku Private Eyes</td>\n",
       "    </tr>\n",
       "    <tr>\n",
       "      <th>3</th>\n",
       "      <td><img src='https://image.tmdb.org/t/p/w500/jnB7HQjBSH62eSyx0oqWArn9Dca.jpg' style='height:100px;'></td>\n",
       "      <td>Doraemon: Nobita's Dinosaur</td>\n",
       "    </tr>\n",
       "    <tr>\n",
       "      <th>4</th>\n",
       "      <td><img src='https://image.tmdb.org/t/p/w500/q4rgLhAOIxRuXRbodXNEdLkpOXn.jpg' style='height:100px;'></td>\n",
       "      <td>Lupin the Third: The Fuma Conspiracy</td>\n",
       "    </tr>\n",
       "    <tr>\n",
       "      <th>5</th>\n",
       "      <td><img src='https://image.tmdb.org/t/p/w500/nrMr4ht4CgX4tyseN1uYVHXENJN.jpg' style='height:100px;'></td>\n",
       "      <td>Ghost in the Shell Arise - Border 3: Ghost Tears</td>\n",
       "    </tr>\n",
       "    <tr>\n",
       "      <th>6</th>\n",
       "      <td><img src='https://image.tmdb.org/t/p/w500/dNlPBbpsyZCHDbYa4VxZOCj3RiI.jpg' style='height:100px;'></td>\n",
       "      <td>Ghost in the Shell Arise - Border 4: Ghost Stands Alone</td>\n",
       "    </tr>\n",
       "    <tr>\n",
       "      <th>7</th>\n",
       "      <td><img src='https://image.tmdb.org/t/p/w500/p0kHK9nJoLzpqa6tqOzPgPkdxYN.jpg' style='height:100px;'></td>\n",
       "      <td>Ghost in the Shell Arise - Border 1: Ghost Pain</td>\n",
       "    </tr>\n",
       "    <tr>\n",
       "      <th>8</th>\n",
       "      <td><img src='https://image.tmdb.org/t/p/w500/ihuDg9TeRzoOhv2cZVA8gi50NFl.jpg' style='height:100px;'></td>\n",
       "      <td>Attack on Titan</td>\n",
       "    </tr>\n",
       "    <tr>\n",
       "      <th>9</th>\n",
       "      <td><img src='https://image.tmdb.org/t/p/w500/dwsoUEJvDpN00rJJ1bR6DrJ5JjF.jpg' style='height:100px;'></td>\n",
       "      <td>Attack on Titan II: End of the World</td>\n",
       "    </tr>\n",
       "    <tr>\n",
       "      <th>10</th>\n",
       "      <td><img src='https://image.tmdb.org/t/p/w500/urvznwew7HrjrIEbK2RLaEkaezs.jpg' style='height:100px;'></td>\n",
       "      <td>Battle Angel</td>\n",
       "    </tr>\n",
       "  </tbody>\n",
       "</table>"
      ],
      "text/plain": [
       "<IPython.core.display.HTML object>"
      ]
     },
     "execution_count": 14,
     "metadata": {},
     "output_type": "execute_result"
    }
   ],
   "source": [
    "recommendations('Akira')"
   ]
  },
  {
   "cell_type": "markdown",
   "id": "bafe0241",
   "metadata": {},
   "source": [
    "## Saving the \"movies\" DataFrame to a csv file"
   ]
  },
  {
   "cell_type": "code",
   "execution_count": 114,
   "id": "d1e18460-e42e-45d2-be0c-c058d50c9c79",
   "metadata": {},
   "outputs": [],
   "source": [
    "movies.to_csv('movies_streamlit.csv', index=False)"
   ]
  },
  {
   "cell_type": "markdown",
   "id": "9bd387fe",
   "metadata": {},
   "source": [
    "## Saving the cosine similarity matrix to a pkl file"
   ]
  },
  {
   "cell_type": "code",
   "execution_count": null,
   "id": "20307351",
   "metadata": {},
   "outputs": [],
   "source": [
    "with open('cs_matrix.pkl', 'wb') as f:\n",
    "    pickle.dump(cs_matrix, f)"
   ]
  },
  {
   "cell_type": "markdown",
   "id": "d2cbf2e7",
   "metadata": {},
   "source": [
    "## Saving the cast and crew data of the final movies dataframe"
   ]
  },
  {
   "cell_type": "code",
   "execution_count": 2,
   "id": "fb38f2e4",
   "metadata": {},
   "outputs": [],
   "source": [
    "credits = pd.read_csv('credits.csv')"
   ]
  },
  {
   "cell_type": "code",
   "execution_count": 24,
   "id": "44534f0a",
   "metadata": {},
   "outputs": [],
   "source": [
    "credits['0'] = credits['0'].apply(lambda x: literal_eval(x) if type(x) == str else np.nan)"
   ]
  },
  {
   "cell_type": "code",
   "execution_count": 28,
   "id": "b0f7fa74",
   "metadata": {},
   "outputs": [],
   "source": [
    "credits = pd.json_normalize(credits['0'])"
   ]
  },
  {
   "cell_type": "code",
   "execution_count": 33,
   "id": "7b437c37",
   "metadata": {},
   "outputs": [
    {
     "name": "stdout",
     "output_type": "stream",
     "text": [
      "(26961, 3)\n"
     ]
    }
   ],
   "source": [
    "credits = credits[credits.id.isin(movies.id)]\n",
    "print(credits.shape)"
   ]
  },
  {
   "cell_type": "code",
   "execution_count": 34,
   "id": "ebaf46df",
   "metadata": {},
   "outputs": [],
   "source": [
    "credits.to_json('credits_streamlit.json', orient='records')"
   ]
  },
  {
   "cell_type": "code",
   "execution_count": 29,
   "id": "93e7b37b",
   "metadata": {},
   "outputs": [
    {
     "data": {
      "text/html": [
       "<div>\n",
       "<style scoped>\n",
       "    .dataframe tbody tr th:only-of-type {\n",
       "        vertical-align: middle;\n",
       "    }\n",
       "\n",
       "    .dataframe tbody tr th {\n",
       "        vertical-align: top;\n",
       "    }\n",
       "\n",
       "    .dataframe thead th {\n",
       "        text-align: right;\n",
       "    }\n",
       "</style>\n",
       "<table border=\"1\" class=\"dataframe\">\n",
       "  <thead>\n",
       "    <tr style=\"text-align: right;\">\n",
       "      <th></th>\n",
       "      <th>id</th>\n",
       "      <th>cast</th>\n",
       "      <th>crew</th>\n",
       "    </tr>\n",
       "  </thead>\n",
       "  <tbody>\n",
       "    <tr>\n",
       "      <th>0</th>\n",
       "      <td>8773</td>\n",
       "      <td>[{'adult': False, 'gender': 2, 'id': 1653, 'kn...</td>\n",
       "      <td>[{'adult': False, 'gender': 2, 'id': 1650, 'kn...</td>\n",
       "    </tr>\n",
       "    <tr>\n",
       "      <th>1</th>\n",
       "      <td>2</td>\n",
       "      <td>[{'adult': False, 'gender': 2, 'id': 54768, 'k...</td>\n",
       "      <td>[{'adult': False, 'gender': 2, 'id': 16767, 'k...</td>\n",
       "    </tr>\n",
       "    <tr>\n",
       "      <th>2</th>\n",
       "      <td>3</td>\n",
       "      <td>[{'adult': False, 'gender': 2, 'id': 4826, 'kn...</td>\n",
       "      <td>[{'adult': False, 'gender': 2, 'id': 16767, 'k...</td>\n",
       "    </tr>\n",
       "    <tr>\n",
       "      <th>3</th>\n",
       "      <td>5</td>\n",
       "      <td>[{'adult': False, 'gender': 2, 'id': 3129, 'kn...</td>\n",
       "      <td>[{'adult': False, 'gender': 1, 'id': 3110, 'kn...</td>\n",
       "    </tr>\n",
       "    <tr>\n",
       "      <th>4</th>\n",
       "      <td>6</td>\n",
       "      <td>[{'adult': False, 'gender': 2, 'id': 2880, 'kn...</td>\n",
       "      <td>[{'adult': False, 'gender': 2, 'id': 2042, 'kn...</td>\n",
       "    </tr>\n",
       "  </tbody>\n",
       "</table>\n",
       "</div>"
      ],
      "text/plain": [
       "     id                                               cast  \\\n",
       "0  8773  [{'adult': False, 'gender': 2, 'id': 1653, 'kn...   \n",
       "1     2  [{'adult': False, 'gender': 2, 'id': 54768, 'k...   \n",
       "2     3  [{'adult': False, 'gender': 2, 'id': 4826, 'kn...   \n",
       "3     5  [{'adult': False, 'gender': 2, 'id': 3129, 'kn...   \n",
       "4     6  [{'adult': False, 'gender': 2, 'id': 2880, 'kn...   \n",
       "\n",
       "                                                crew  \n",
       "0  [{'adult': False, 'gender': 2, 'id': 1650, 'kn...  \n",
       "1  [{'adult': False, 'gender': 2, 'id': 16767, 'k...  \n",
       "2  [{'adult': False, 'gender': 2, 'id': 16767, 'k...  \n",
       "3  [{'adult': False, 'gender': 1, 'id': 3110, 'kn...  \n",
       "4  [{'adult': False, 'gender': 2, 'id': 2042, 'kn...  "
      ]
     },
     "execution_count": 29,
     "metadata": {},
     "output_type": "execute_result"
    }
   ],
   "source": [
    "credits.head()"
   ]
  },
  {
   "cell_type": "markdown",
   "id": "40ea2152",
   "metadata": {},
   "source": [
    "## Creating a function to retrieve cast information"
   ]
  },
  {
   "cell_type": "code",
   "execution_count": 90,
   "id": "3ae356ad",
   "metadata": {},
   "outputs": [],
   "source": [
    "def get_cast(movie_id):\n",
    "    cast = credits.loc[credits.id == movie_id, 'cast'].values\n",
    "    names = []\n",
    "    characters = []\n",
    "    profile_paths = []\n",
    "    base_url = 'https://image.tmdb.org/t/p/w500'\n",
    "\n",
    "    for val in cast[0]:\n",
    "        if hasattr(val, 'get'):\n",
    "            names.append(val.get('name'))\n",
    "            characters.append(val.get('character'))\n",
    "            profile_paths.append(base_url + val.get('profile_path') if type(val.get('profile_path')) == str else 'http://tinleychamber.org/wp-content/uploads/2019/01/no-image-available.png')\n",
    "    return names, characters, profile_paths\n",
    "    \n",
    "\n",
    "names, characters, profile_paths = get_cast(55)"
   ]
  },
  {
   "cell_type": "markdown",
   "id": "a6e21425",
   "metadata": {},
   "source": [
    "## Saving the new credits dataframe to a pkl file"
   ]
  },
  {
   "cell_type": "code",
   "execution_count": 106,
   "id": "a7bf3ff9",
   "metadata": {},
   "outputs": [],
   "source": [
    "with open('credits_streamlit.pkl', 'wb') as f:\n",
    "    pickle.dump(credits, f)"
   ]
  },
  {
   "cell_type": "code",
   "execution_count": 2,
   "id": "5b80f6e3",
   "metadata": {},
   "outputs": [],
   "source": [
    "y = pickle.load(open('credits_streamlit.pkl', 'rb'))"
   ]
  },
  {
   "cell_type": "markdown",
   "id": "48d1b035",
   "metadata": {},
   "source": [
    "### We have everything we need to create our app and deploy the movie recommendation system."
   ]
  }
 ],
 "metadata": {
  "kernelspec": {
   "display_name": "Python 3 (ipykernel)",
   "language": "python",
   "name": "python3"
  },
  "language_info": {
   "codemirror_mode": {
    "name": "ipython",
    "version": 3
   },
   "file_extension": ".py",
   "mimetype": "text/x-python",
   "name": "python",
   "nbconvert_exporter": "python",
   "pygments_lexer": "ipython3",
   "version": "3.8.12"
  }
 },
 "nbformat": 4,
 "nbformat_minor": 5
}
